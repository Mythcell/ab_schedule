{
 "cells": [
  {
   "cell_type": "markdown",
   "id": "2f4d386a-7b6b-44ac-9c3d-3782a68750e7",
   "metadata": {},
   "source": [
    "## Astrobites Scheduling Code\n",
    "by Mitchell Cavanagh, Nov 2021\n",
    "***\n",
    "Code to generate schedules for Astrobites. A schedule is defined as a list of blocks, where each block contains tuples of writer-editor pairs, e.g (AB,CD). The code consists of a class named `Schedule()` in the file `astrobites.py`. I've used the word block instead of week since blocks are designed to contain an arbitrary number of posts.\n",
    "\n",
    "### Requirements\n",
    "- Python 3.8 or above\n",
    "- Numpy\n",
    "\n",
    "### Overview\n",
    "The code is designed to satisfy the following schedule requirements:\n",
    "- Each author writes and edits exactly `num_writes` times\n",
    "- Writers do not edit their own post\n",
    "- Writers do not write in consecutive blocks\n",
    "- Editors do not edit in consecutive blocks\n",
    "- Writers write at least one regular post*\n",
    "\n",
    "\n",
    "There is code to enforce the following requirement \n",
    "- Writers/editors do not edit/write in the previous block\n",
    "\n",
    "\n",
    "However it is currently disabled (commented out) as this leads to a massive blowout in generation times (I've yet to get it to generate a schedule with this requirement)\n",
    "\n",
    "*only when `num_writes > num_queue + num_beyond`, otherwise there seems to be problems :(\n",
    "\n",
    "\n",
    "### Key Parameters\n",
    "The following are the main parameters that govern how the code runs:\n",
    "- `num_writes` How many times each writer should write (default=3)\n",
    "- `num_regular` The number of regular posts (default=5)\n",
    "- `num_queue` The number of queue posts (default=1)\n",
    "- `num_beyond` The number of beyond posts (default=1)\n",
    "- `max_trials` Maximum number of attempts (default=1000)\n",
    "- `max_iter` Maximum number of iterations within each attempt (default=200000)\n",
    "\n",
    "\n",
    "### Authors\n",
    "The code is designed to work with an arbitrary list of authors, and will (by default) look for a list of author initials in the file `authors.txt`. The list should be formatted with author initials separated by newlines, e.g\n",
    "```\n",
    "AB\n",
    "AC\n",
    "AD\n",
    "AE\n",
    "```\n",
    "\n",
    "### Caveats and Limitations\n",
    "The code predominantly uses brute-force to randomly pick writers and editors until it generates a queue that satisfies the schedule constraints and requirements. It does this one block at a time from start to finish. In the default case (5 regular posts, 1 queue and beyond post each, 3 writes per writer), it typically requires 50-100 trials to obtain a suitable schedule (roughly 20-30min). Recommended running the script in the background.\n",
    "\n",
    "\n",
    "The code is designed to be flexible, however it will struggle with large block sizes and/or large values of `num_writes`, `num_regular`. Note that runnings times also depend on the number of authors; the more authors, the easier it is to schedule blocks.\n",
    "\n",
    "\n",
    "Queue and beyond posts will only be selected for full blocks. Incomplete blocks (typically the last one as it is the remainder block) will not have queue/beyond posts selected.\n",
    "\n",
    "\n",
    "`write_schedule()` is mostly meant to be used for blocks of length 7 or more. Also, I've not tested with anything set to 0, so do so at your own risk!\n",
    "\n",
    "\n",
    "As always, if it appears the code is stuck in an infinite loop, just terminate the kernel or Ctrl-C to force quit.\n",
    "\n",
    "### Contact\n",
    "\n",
    "For any issues with the code, please reach out at `mitchell.cavanagh@research.uwa.edu.au`\n",
    "\n",
    "***\n",
    "## Demo"
   ]
  },
  {
   "cell_type": "code",
   "execution_count": null,
   "id": "108705a7-83d8-4064-85b7-efb15b6217f3",
   "metadata": {},
   "outputs": [],
   "source": [
    "import numpy as np\n",
    "\n",
    "import astrobites"
   ]
  },
  {
   "cell_type": "markdown",
   "id": "aee1a68e-9930-4ac8-bc94-dc6ffbb3c320",
   "metadata": {},
   "source": [
    "Let's start with a simple demo. First instantiate a scheduler"
   ]
  },
  {
   "cell_type": "code",
   "execution_count": null,
   "id": "e7ff7a95-1bd9-4814-95c9-72af61c02392",
   "metadata": {},
   "outputs": [],
   "source": [
    "schedule = astrobites.Schedule()"
   ]
  },
  {
   "cell_type": "markdown",
   "id": "160d6d82-15c5-475e-8863-3cd2a69fe212",
   "metadata": {},
   "source": [
    "The only class attribute is the list of authors. Check this to see if the authors have been loaded properly:"
   ]
  },
  {
   "cell_type": "code",
   "execution_count": null,
   "id": "3c2ea55f-503e-4b0c-86df-306c77703985",
   "metadata": {},
   "outputs": [],
   "source": [
    "print(schedule.authors)"
   ]
  },
  {
   "cell_type": "markdown",
   "id": "464eecee-4988-4c59-93f9-37a10f66daa6",
   "metadata": {},
   "source": [
    "Let's go for a default schedule by running `make_schedule()`. By default this will write the schedule immediately to the file `schedule.csv`, but we can either disable that or supply a different filepath. By default, verbose mode is on, and this is recommended to track iterations and trials to see if `max_iter` needs changing. Some examples below:"
   ]
  },
  {
   "cell_type": "code",
   "execution_count": null,
   "id": "cf6e0653-c1ee-438b-973b-68917d676491",
   "metadata": {},
   "outputs": [],
   "source": [
    "# default schedule\n",
    "blocks, queue_posts, beyond_posts = schedule.make_schedule()\n",
    "\n",
    "# make a schedule where every author writes twice\n",
    "blocks, queue_posts, beyond_posts = schedule.make_schedule(num_writes=2) \n",
    "\n",
    "# make a schedule but don't write it to file yet...\n",
    "blocks, queue_posts, beyond_posts = schedule.make_schedule(write_csv=False)\n",
    "# ...instead explicitly write it using write_schedule...\n",
    "schedule.write_schedule(blocks, queue_posts, beyond_posts, f_out='myfilepath')\n",
    "# ...or just exports the blocks in a plain csv file (useful for manually asigning queue/beyond)\n",
    "schedule.export_blocks(blocks)"
   ]
  },
  {
   "cell_type": "markdown",
   "id": "1616c06b-9b37-41fa-8b88-4bb9e61957ab",
   "metadata": {},
   "source": [
    "Note that `write_schedule` does not format write/editor pairs in the order that they are in the block. Instead, posts are allocated to days in random order."
   ]
  },
  {
   "cell_type": "code",
   "execution_count": null,
   "id": "395fc8f8-df01-4370-ba2c-b26f2b8c6fa4",
   "metadata": {},
   "outputs": [],
   "source": []
  }
 ],
 "metadata": {
  "kernelspec": {
   "display_name": "Python 3 (ipykernel)",
   "language": "python",
   "name": "python3"
  },
  "language_info": {
   "codemirror_mode": {
    "name": "ipython",
    "version": 3
   },
   "file_extension": ".py",
   "mimetype": "text/x-python",
   "name": "python",
   "nbconvert_exporter": "python",
   "pygments_lexer": "ipython3",
   "version": "3.8.12"
  }
 },
 "nbformat": 4,
 "nbformat_minor": 5
}
